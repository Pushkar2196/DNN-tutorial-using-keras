{
  "nbformat": 4,
  "nbformat_minor": 0,
  "metadata": {
    "colab": {
      "name": "Untitled1.ipynb",
      "version": "0.3.2",
      "views": {},
      "default_view": {},
      "provenance": []
    },
    "kernelspec": {
      "name": "python3",
      "display_name": "Python 3"
    },
    "accelerator": "GPU"
  },
  "cells": [
    {
      "metadata": {
        "id": "saGVvNtLCvk6",
        "colab_type": "code",
        "colab": {
          "autoexec": {
            "startup": false,
            "wait_interval": 0
          },
          "base_uri": "https://localhost:8080/",
          "height": 34
        },
        "outputId": "2768a6d8-2182-47b5-c822-dc9d1d1fecac",
        "executionInfo": {
          "status": "ok",
          "timestamp": 1530015824803,
          "user_tz": -330,
          "elapsed": 7938,
          "user": {
            "displayName": "Pushkar Pandey",
            "photoUrl": "https://lh3.googleusercontent.com/a/default-user=s128",
            "userId": "109513581854930566583"
          }
        }
      },
      "cell_type": "code",
      "source": [
        "# https://keras.io/\n",
        "!pip install -q keras\n",
        "import keras"
      ],
      "execution_count": 1,
      "outputs": [
        {
          "output_type": "stream",
          "text": [
            "Using TensorFlow backend.\n"
          ],
          "name": "stderr"
        }
      ]
    },
    {
      "metadata": {
        "id": "rg-3oTtNC_1G",
        "colab_type": "code",
        "colab": {
          "autoexec": {
            "startup": false,
            "wait_interval": 0
          }
        }
      },
      "cell_type": "code",
      "source": [
        "from __future__ import print_function\n",
        "\n",
        "import keras\n",
        "from keras.datasets import mnist\n",
        "from keras.models import Sequential\n",
        "from keras.layers import Dense, Dropout\n",
        "from keras.optimizers import RMSprop"
      ],
      "execution_count": 0,
      "outputs": []
    },
    {
      "metadata": {
        "id": "AzALAoyVC_8J",
        "colab_type": "code",
        "colab": {
          "autoexec": {
            "startup": false,
            "wait_interval": 0
          }
        }
      },
      "cell_type": "code",
      "source": [
        "batch_size = 128\n",
        "num_classes = 10\n",
        "epochs = 20"
      ],
      "execution_count": 0,
      "outputs": []
    },
    {
      "metadata": {
        "id": "V2ckVZY_C_-7",
        "colab_type": "code",
        "colab": {
          "autoexec": {
            "startup": false,
            "wait_interval": 0
          },
          "base_uri": "https://localhost:8080/",
          "height": 51
        },
        "outputId": "44dc5f40-1464-401c-8d54-2cfb578e3b8c",
        "executionInfo": {
          "status": "ok",
          "timestamp": 1530015897332,
          "user_tz": -330,
          "elapsed": 5135,
          "user": {
            "displayName": "Pushkar Pandey",
            "photoUrl": "https://lh3.googleusercontent.com/a/default-user=s128",
            "userId": "109513581854930566583"
          }
        }
      },
      "cell_type": "code",
      "source": [
        "# the data, split between train and test sets\n",
        "(x_train, y_train), (x_test, y_test) = mnist.load_data()\n",
        "\n",
        "x_train = x_train.reshape(60000, 784)\n",
        "x_test = x_test.reshape(10000, 784)\n",
        "x_train = x_train.astype('float32')\n",
        "x_test = x_test.astype('float32')\n",
        "x_train /= 255\n",
        "x_test /= 255"
      ],
      "execution_count": 4,
      "outputs": [
        {
          "output_type": "stream",
          "text": [
            "Downloading data from https://s3.amazonaws.com/img-datasets/mnist.npz\n",
            "11493376/11490434 [==============================] - 3s 0us/step\n"
          ],
          "name": "stdout"
        }
      ]
    },
    {
      "metadata": {
        "id": "vO-RB_AEDADz",
        "colab_type": "code",
        "colab": {
          "autoexec": {
            "startup": false,
            "wait_interval": 0
          },
          "base_uri": "https://localhost:8080/",
          "height": 51
        },
        "outputId": "19da36b3-7d96-411b-baf2-75081bdbaef0",
        "executionInfo": {
          "status": "ok",
          "timestamp": 1530015908029,
          "user_tz": -330,
          "elapsed": 1092,
          "user": {
            "displayName": "Pushkar Pandey",
            "photoUrl": "https://lh3.googleusercontent.com/a/default-user=s128",
            "userId": "109513581854930566583"
          }
        }
      },
      "cell_type": "code",
      "source": [
        "print(x_train.shape[0], 'train samples')\n",
        "print(x_test.shape[0], 'test samples')"
      ],
      "execution_count": 5,
      "outputs": [
        {
          "output_type": "stream",
          "text": [
            "60000 train samples\n",
            "10000 test samples\n"
          ],
          "name": "stdout"
        }
      ]
    },
    {
      "metadata": {
        "id": "JrqgXQ8BDAGD",
        "colab_type": "code",
        "colab": {
          "autoexec": {
            "startup": false,
            "wait_interval": 0
          }
        }
      },
      "cell_type": "code",
      "source": [
        "# convert class vectors to binary class matrices\n",
        "y_train = keras.utils.to_categorical(y_train, num_classes)\n",
        "y_test = keras.utils.to_categorical(y_test, num_classes)\n"
      ],
      "execution_count": 0,
      "outputs": []
    },
    {
      "metadata": {
        "id": "zPLCXl06DAIW",
        "colab_type": "code",
        "colab": {
          "autoexec": {
            "startup": false,
            "wait_interval": 0
          },
          "base_uri": "https://localhost:8080/",
          "height": 306
        },
        "outputId": "17cfd75c-1ba0-421b-ec52-06ea8a584084",
        "executionInfo": {
          "status": "ok",
          "timestamp": 1530015930945,
          "user_tz": -330,
          "elapsed": 1174,
          "user": {
            "displayName": "Pushkar Pandey",
            "photoUrl": "https://lh3.googleusercontent.com/a/default-user=s128",
            "userId": "109513581854930566583"
          }
        }
      },
      "cell_type": "code",
      "source": [
        "model = Sequential()\n",
        "model.add(Dense(512, activation='relu', input_shape=(784,)))\n",
        "model.add(Dropout(0.2))\n",
        "model.add(Dense(512, activation='relu'))\n",
        "model.add(Dropout(0.2))\n",
        "model.add(Dense(num_classes, activation='softmax'))\n",
        "\n",
        "model.summary()"
      ],
      "execution_count": 7,
      "outputs": [
        {
          "output_type": "stream",
          "text": [
            "_________________________________________________________________\n",
            "Layer (type)                 Output Shape              Param #   \n",
            "=================================================================\n",
            "dense_1 (Dense)              (None, 512)               401920    \n",
            "_________________________________________________________________\n",
            "dropout_1 (Dropout)          (None, 512)               0         \n",
            "_________________________________________________________________\n",
            "dense_2 (Dense)              (None, 512)               262656    \n",
            "_________________________________________________________________\n",
            "dropout_2 (Dropout)          (None, 512)               0         \n",
            "_________________________________________________________________\n",
            "dense_3 (Dense)              (None, 10)                5130      \n",
            "=================================================================\n",
            "Total params: 669,706\n",
            "Trainable params: 669,706\n",
            "Non-trainable params: 0\n",
            "_________________________________________________________________\n"
          ],
          "name": "stdout"
        }
      ]
    },
    {
      "metadata": {
        "id": "iF4aolcnDrDr",
        "colab_type": "code",
        "colab": {
          "autoexec": {
            "startup": false,
            "wait_interval": 0
          }
        }
      },
      "cell_type": "code",
      "source": [
        "model.compile(loss='categorical_crossentropy',\n",
        "              optimizer=RMSprop(),\n",
        "              metrics=['accuracy'])"
      ],
      "execution_count": 0,
      "outputs": []
    },
    {
      "metadata": {
        "id": "VH0Q3L8_DALn",
        "colab_type": "code",
        "colab": {
          "autoexec": {
            "startup": false,
            "wait_interval": 0
          },
          "base_uri": "https://localhost:8080/",
          "height": 734
        },
        "outputId": "19ba052d-c40d-4682-9eef-472cfb008178",
        "executionInfo": {
          "status": "ok",
          "timestamp": 1530016052295,
          "user_tz": -330,
          "elapsed": 73416,
          "user": {
            "displayName": "Pushkar Pandey",
            "photoUrl": "https://lh3.googleusercontent.com/a/default-user=s128",
            "userId": "109513581854930566583"
          }
        }
      },
      "cell_type": "code",
      "source": [
        "history = model.fit(x_train, y_train,\n",
        "                    batch_size=batch_size,\n",
        "                    epochs=epochs,\n",
        "                    verbose=1,\n",
        "                    validation_data=(x_test, y_test))"
      ],
      "execution_count": 9,
      "outputs": [
        {
          "output_type": "stream",
          "text": [
            "Train on 60000 samples, validate on 10000 samples\n",
            "Epoch 1/20\n",
            "60000/60000 [==============================] - 4s 71us/step - loss: 0.2482 - acc: 0.9219 - val_loss: 0.1543 - val_acc: 0.9489\n",
            "Epoch 2/20\n",
            "60000/60000 [==============================] - 4s 59us/step - loss: 0.1019 - acc: 0.9688 - val_loss: 0.0810 - val_acc: 0.9749\n",
            "Epoch 3/20\n",
            "60000/60000 [==============================] - 4s 59us/step - loss: 0.0748 - acc: 0.9776 - val_loss: 0.0775 - val_acc: 0.9783\n",
            "Epoch 4/20\n",
            "60000/60000 [==============================] - 4s 60us/step - loss: 0.0610 - acc: 0.9814 - val_loss: 0.0792 - val_acc: 0.9788\n",
            "Epoch 5/20\n",
            "10112/60000 [====>.........................] - ETA: 2s - loss: 0.0373 - acc: 0.9885"
          ],
          "name": "stdout"
        },
        {
          "output_type": "stream",
          "text": [
            "60000/60000 [==============================] - 4s 60us/step - loss: 0.0497 - acc: 0.9853 - val_loss: 0.0784 - val_acc: 0.9805\n",
            "Epoch 6/20\n",
            "60000/60000 [==============================] - 4s 59us/step - loss: 0.0436 - acc: 0.9867 - val_loss: 0.0769 - val_acc: 0.9804\n",
            "Epoch 7/20\n",
            "60000/60000 [==============================] - 4s 60us/step - loss: 0.0375 - acc: 0.9889 - val_loss: 0.0920 - val_acc: 0.9795\n",
            "Epoch 8/20\n",
            "60000/60000 [==============================] - 4s 60us/step - loss: 0.0353 - acc: 0.9898 - val_loss: 0.0830 - val_acc: 0.9830\n",
            "Epoch 9/20\n",
            "37376/60000 [=================>............] - ETA: 1s - loss: 0.0300 - acc: 0.9914"
          ],
          "name": "stdout"
        },
        {
          "output_type": "stream",
          "text": [
            "60000/60000 [==============================] - 4s 59us/step - loss: 0.0317 - acc: 0.9908 - val_loss: 0.0818 - val_acc: 0.9839\n",
            "Epoch 10/20\n",
            "60000/60000 [==============================] - 4s 59us/step - loss: 0.0298 - acc: 0.9917 - val_loss: 0.0949 - val_acc: 0.9820\n",
            "Epoch 11/20\n",
            "60000/60000 [==============================] - 4s 59us/step - loss: 0.0275 - acc: 0.9919 - val_loss: 0.0869 - val_acc: 0.9825\n",
            "Epoch 12/20\n",
            "60000/60000 [==============================] - 4s 60us/step - loss: 0.0271 - acc: 0.9923 - val_loss: 0.0898 - val_acc: 0.9828\n",
            "Epoch 13/20\n",
            "38784/60000 [==================>...........] - ETA: 1s - loss: 0.0230 - acc: 0.9931"
          ],
          "name": "stdout"
        },
        {
          "output_type": "stream",
          "text": [
            "60000/60000 [==============================] - 4s 59us/step - loss: 0.0247 - acc: 0.9928 - val_loss: 0.0921 - val_acc: 0.9836\n",
            "Epoch 14/20\n",
            "60000/60000 [==============================] - 4s 59us/step - loss: 0.0253 - acc: 0.9932 - val_loss: 0.0925 - val_acc: 0.9837\n",
            "Epoch 15/20\n",
            "60000/60000 [==============================] - 4s 59us/step - loss: 0.0225 - acc: 0.9940 - val_loss: 0.1010 - val_acc: 0.9818\n",
            "Epoch 16/20\n",
            "60000/60000 [==============================] - 4s 60us/step - loss: 0.0213 - acc: 0.9939 - val_loss: 0.0958 - val_acc: 0.9840\n",
            "Epoch 17/20\n",
            "40448/60000 [===================>..........] - ETA: 1s - loss: 0.0173 - acc: 0.9953"
          ],
          "name": "stdout"
        },
        {
          "output_type": "stream",
          "text": [
            "60000/60000 [==============================] - 3s 58us/step - loss: 0.0189 - acc: 0.9952 - val_loss: 0.1063 - val_acc: 0.9826\n",
            "Epoch 18/20\n",
            "60000/60000 [==============================] - 4s 59us/step - loss: 0.0193 - acc: 0.9947 - val_loss: 0.1168 - val_acc: 0.9827\n",
            "Epoch 19/20\n",
            "60000/60000 [==============================] - 4s 59us/step - loss: 0.0193 - acc: 0.9948 - val_loss: 0.1154 - val_acc: 0.9827\n",
            "Epoch 20/20\n",
            "60000/60000 [==============================] - 4s 59us/step - loss: 0.0206 - acc: 0.9951 - val_loss: 0.1086 - val_acc: 0.9825\n"
          ],
          "name": "stdout"
        }
      ]
    },
    {
      "metadata": {
        "id": "E2RzMPueDAQd",
        "colab_type": "code",
        "colab": {
          "autoexec": {
            "startup": false,
            "wait_interval": 0
          },
          "base_uri": "https://localhost:8080/",
          "height": 51
        },
        "outputId": "55159304-a780-477c-de0f-d4882dc0fec0",
        "executionInfo": {
          "status": "ok",
          "timestamp": 1530016056977,
          "user_tz": -330,
          "elapsed": 2161,
          "user": {
            "displayName": "Pushkar Pandey",
            "photoUrl": "https://lh3.googleusercontent.com/a/default-user=s128",
            "userId": "109513581854930566583"
          }
        }
      },
      "cell_type": "code",
      "source": [
        "score = model.evaluate(x_test, y_test, verbose=0)\n",
        "print('Test loss:', score[0])\n",
        "print('Test accuracy:', score[1])"
      ],
      "execution_count": 10,
      "outputs": [
        {
          "output_type": "stream",
          "text": [
            "Test loss: 0.10861162530263195\n",
            "Test accuracy: 0.9825\n"
          ],
          "name": "stdout"
        }
      ]
    },
    {
      "metadata": {
        "id": "J10hrkn5DFRU",
        "colab_type": "code",
        "colab": {
          "autoexec": {
            "startup": false,
            "wait_interval": 0
          }
        }
      },
      "cell_type": "code",
      "source": [
        ""
      ],
      "execution_count": 0,
      "outputs": []
    }
  ]
}