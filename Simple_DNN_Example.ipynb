{
  "nbformat": 4,
  "nbformat_minor": 0,
  "metadata": {
    "colab": {
      "name": "Untitled0.ipynb",
      "version": "0.3.2",
      "views": {},
      "default_view": {},
      "provenance": []
    },
    "kernelspec": {
      "name": "python2",
      "display_name": "Python 2"
    }
  },
  "cells": [
    {
      "metadata": {
        "id": "HkABzoon93j4",
        "colab_type": "code",
        "colab": {
          "autoexec": {
            "startup": false,
            "wait_interval": 0
          },
          "base_uri": "https://localhost:8080/",
          "height": 34
        },
        "outputId": "ec793e5c-94cc-42af-848f-4a21f31f5c3b",
        "executionInfo": {
          "status": "ok",
          "timestamp": 1530014490573,
          "user_tz": -330,
          "elapsed": 10745,
          "user": {
            "displayName": "Pushkar Pandey",
            "photoUrl": "https://lh3.googleusercontent.com/a/default-user=s128",
            "userId": "109513581854930566583"
          }
        }
      },
      "cell_type": "code",
      "source": [
        "# https://keras.io/\n",
        "!pip install -q keras\n",
        "import keras"
      ],
      "execution_count": 1,
      "outputs": [
        {
          "output_type": "stream",
          "text": [
            "Using TensorFlow backend.\n"
          ],
          "name": "stderr"
        }
      ]
    },
    {
      "metadata": {
        "id": "iuyNh9nw-LZF",
        "colab_type": "code",
        "colab": {
          "autoexec": {
            "startup": false,
            "wait_interval": 0
          }
        }
      },
      "cell_type": "code",
      "source": [
        "import keras\n",
        "from keras.models import Sequential\n",
        "from keras.layers import Dense, Dropout, Activation\n",
        "from keras.optimizers import SGD\n",
        "\n",
        "# Generate dummy data\n",
        "import numpy as np"
      ],
      "execution_count": 0,
      "outputs": []
    },
    {
      "metadata": {
        "id": "-CGHaemCVHrs",
        "colab_type": "code",
        "colab": {
          "autoexec": {
            "startup": false,
            "wait_interval": 0
          }
        }
      },
      "cell_type": "code",
      "source": [
        "x_train = np.random.random((1000, 20))\n",
        "y_train = keras.utils.to_categorical(np.random.randint(10, size=(1000, 1)), num_classes=10)\n",
        "x_test = np.random.random((100, 20))\n",
        "y_test = keras.utils.to_categorical(np.random.randint(10, size=(100, 1)), num_classes=10)\n"
      ],
      "execution_count": 0,
      "outputs": []
    },
    {
      "metadata": {
        "id": "K_67vEfEB-E8",
        "colab_type": "code",
        "colab": {
          "autoexec": {
            "startup": false,
            "wait_interval": 0
          }
        }
      },
      "cell_type": "code",
      "source": [
        "model = Sequential()\n",
        "# Dense(64) is a fully-connected layer with 64 hidden units.\n",
        "# in the first layer, you must specify the expected input data shape:\n",
        "# here, 20-dimensional vectors.\n",
        "model.add(Dense(64, activation='relu', input_dim=20))\n",
        "model.add(Dropout(0.5))\n",
        "model.add(Dense(64, activation='relu'))\n",
        "model.add(Dropout(0.5))\n",
        "model.add(Dense(10, activation='softmax'))\n",
        "\n",
        "sgd = SGD(lr=0.01, decay=1e-6, momentum=0.9, nesterov=True)\n",
        "model.compile(loss='categorical_crossentropy',\n",
        "              optimizer=sgd,\n",
        "              metrics=['accuracy'])"
      ],
      "execution_count": 0,
      "outputs": []
    },
    {
      "metadata": {
        "id": "Vvn_XxXDVOB6",
        "colab_type": "code",
        "colab": {
          "autoexec": {
            "startup": false,
            "wait_interval": 0
          },
          "base_uri": "https://localhost:8080/",
          "height": 306
        },
        "outputId": "4cff4769-0081-431f-f357-6243a0708346",
        "executionInfo": {
          "status": "ok",
          "timestamp": 1530014656940,
          "user_tz": -330,
          "elapsed": 1563,
          "user": {
            "displayName": "Pushkar Pandey",
            "photoUrl": "https://lh3.googleusercontent.com/a/default-user=s128",
            "userId": "109513581854930566583"
          }
        }
      },
      "cell_type": "code",
      "source": [
        "model.summary()"
      ],
      "execution_count": 7,
      "outputs": [
        {
          "output_type": "stream",
          "text": [
            "_________________________________________________________________\n",
            "Layer (type)                 Output Shape              Param #   \n",
            "=================================================================\n",
            "dense_4 (Dense)              (None, 64)                1344      \n",
            "_________________________________________________________________\n",
            "dropout_3 (Dropout)          (None, 64)                0         \n",
            "_________________________________________________________________\n",
            "dense_5 (Dense)              (None, 64)                4160      \n",
            "_________________________________________________________________\n",
            "dropout_4 (Dropout)          (None, 64)                0         \n",
            "_________________________________________________________________\n",
            "dense_6 (Dense)              (None, 10)                650       \n",
            "=================================================================\n",
            "Total params: 6,154\n",
            "Trainable params: 6,154\n",
            "Non-trainable params: 0\n",
            "_________________________________________________________________\n"
          ],
          "name": "stdout"
        }
      ]
    },
    {
      "metadata": {
        "id": "dRC3L7ef-gOC",
        "colab_type": "code",
        "colab": {
          "autoexec": {
            "startup": false,
            "wait_interval": 0
          },
          "base_uri": "https://localhost:8080/",
          "height": 751
        },
        "outputId": "064e559d-d4e6-4ebb-856d-7507b37f42f0",
        "executionInfo": {
          "status": "ok",
          "timestamp": 1530014663838,
          "user_tz": -330,
          "elapsed": 4100,
          "user": {
            "displayName": "Pushkar Pandey",
            "photoUrl": "https://lh3.googleusercontent.com/a/default-user=s128",
            "userId": "109513581854930566583"
          }
        }
      },
      "cell_type": "code",
      "source": [
        "model.fit(x_train, y_train,\n",
        "          epochs=20,\n",
        "          batch_size=128)\n",
        "score = model.evaluate(x_test, y_test, batch_size=128)"
      ],
      "execution_count": 8,
      "outputs": [
        {
          "output_type": "stream",
          "text": [
            "WARNING:tensorflow:Variable *= will be deprecated. Use variable.assign_mul if you want assignment to the variable value or 'x = x * y' if you want a new python Tensor object.\n",
            "Epoch 1/20\n",
            "1000/1000 [==============================] - 1s 1ms/step - loss: 2.4937 - acc: 0.1160\n",
            "Epoch 2/20\n",
            "1000/1000 [==============================] - 0s 43us/step - loss: 2.3931 - acc: 0.1010\n",
            "Epoch 3/20\n",
            "1000/1000 [==============================] - 0s 42us/step - loss: 2.3583 - acc: 0.0990\n",
            "Epoch 4/20\n",
            "1000/1000 [==============================] - 0s 45us/step - loss: 2.3250 - acc: 0.1080\n",
            "Epoch 5/20\n",
            "1000/1000 [==============================] - 0s 44us/step - loss: 2.3127 - acc: 0.1060\n",
            "Epoch 6/20\n",
            "1000/1000 [==============================] - 0s 46us/step - loss: 2.3282 - acc: 0.0960\n",
            "Epoch 7/20\n",
            "1000/1000 [==============================] - 0s 46us/step - loss: 2.3048 - acc: 0.1140\n",
            "Epoch 8/20\n",
            "1000/1000 [==============================] - 0s 48us/step - loss: 2.3137 - acc: 0.0970\n",
            "Epoch 9/20\n",
            "1000/1000 [==============================] - 0s 51us/step - loss: 2.3149 - acc: 0.1160\n",
            "Epoch 10/20\n",
            "1000/1000 [==============================] - 0s 48us/step - loss: 2.3076 - acc: 0.1160\n",
            "Epoch 11/20\n",
            "1000/1000 [==============================] - 0s 48us/step - loss: 2.3051 - acc: 0.1030\n",
            "Epoch 12/20\n",
            "1000/1000 [==============================] - 0s 46us/step - loss: 2.3154 - acc: 0.1050\n",
            "Epoch 13/20\n",
            "1000/1000 [==============================] - 0s 50us/step - loss: 2.3043 - acc: 0.1180\n",
            "Epoch 14/20\n",
            "1000/1000 [==============================] - 0s 45us/step - loss: 2.3049 - acc: 0.1120\n",
            "Epoch 15/20\n",
            "1000/1000 [==============================] - 0s 47us/step - loss: 2.3114 - acc: 0.1120\n",
            "Epoch 16/20\n",
            "1000/1000 [==============================] - 0s 50us/step - loss: 2.3039 - acc: 0.1080\n",
            "Epoch 17/20\n",
            "1000/1000 [==============================] - 0s 51us/step - loss: 2.3019 - acc: 0.1060\n",
            "Epoch 18/20\n",
            "1000/1000 [==============================] - 0s 46us/step - loss: 2.2972 - acc: 0.1200\n",
            "Epoch 19/20\n",
            "1000/1000 [==============================] - 0s 44us/step - loss: 2.3095 - acc: 0.1230\n",
            "Epoch 20/20\n",
            "1000/1000 [==============================] - 0s 46us/step - loss: 2.3035 - acc: 0.1130\n",
            "100/100 [==============================] - 0s 368us/step\n"
          ],
          "name": "stdout"
        }
      ]
    },
    {
      "metadata": {
        "id": "xpqhunhACHse",
        "colab_type": "code",
        "colab": {
          "autoexec": {
            "startup": false,
            "wait_interval": 0
          },
          "base_uri": "https://localhost:8080/",
          "height": 51
        },
        "outputId": "b10ab565-279d-4b84-bdc1-22b2ed324e61",
        "executionInfo": {
          "status": "ok",
          "timestamp": 1530015549728,
          "user_tz": -330,
          "elapsed": 1362,
          "user": {
            "displayName": "Pushkar Pandey",
            "photoUrl": "https://lh3.googleusercontent.com/a/default-user=s128",
            "userId": "109513581854930566583"
          }
        }
      },
      "cell_type": "code",
      "source": [
        "print('Test loss:', score[0])\n",
        "print('Test accuracy:', score[1])"
      ],
      "execution_count": 9,
      "outputs": [
        {
          "output_type": "stream",
          "text": [
            "('Test loss:', 2.3070929050445557)\n",
            "('Test accuracy:', 0.10000000149011612)\n"
          ],
          "name": "stdout"
        }
      ]
    }
  ]
}